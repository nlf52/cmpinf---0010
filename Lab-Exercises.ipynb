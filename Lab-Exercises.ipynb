{
 "cells": [
  {
   "cell_type": "markdown",
   "metadata": {},
   "source": [
    "# Lab Exercises\n",
    "\n",
    "## Mini Group: Making a Repository\n",
    "\n",
    "**N.B**:: DO NOT SUBMIT THIS FILE. It is just a guide. Commiting this file will NOT be counted as part of your submission!\n"
   ]
  },
  {
   "cell_type": "markdown",
   "metadata": {},
   "source": [
    "## Part 1 - This week: The Repository\n",
    "\n",
    "First off, you're going to be continuing this project into next week, so, if you don't finish in time, you're not off the hook. You'll need everything from this week (plus some other things that you might already have written) for next week.\n",
    "\n",
    "Step 1: Find a partner! This is a group project, so find a friend or two and form groups of NO MORE THAN 3 people. You can't work by yourself!\n",
    "\n",
    "Step 2: One member of the group will create a repo, and the other members will be \"collaborators\". The owner is responsible for approving the other member's pull requests.\n",
    "\n",
    "Step 2: As a group, your job is to make a simple program for class! Make a Jupyter notebook that contains a Python program that does Something™. What's Something™? Write a program with the following attributes:\n",
    "\n",
    "* It takes a name input\n",
    "* It takes some other input\n",
    "* It does Something™ with this other input\n",
    "    \n",
    "Step 3: In a file called `README.md`, write a description of your program and what it does, and list your group's members. \n",
    "\n",
    "Step 4: Make sure everyone in your group has **at least one commit**. That's how we'll be checking your work.\n",
    "\n",
    "Step 5: Submit the URL to your repository on Canvas! (**Note:** make sure you all join the same \"Version Control\" group on Canvas. This way, only one group member needs to submit the URL)\n",
    "\n"
   ]
  },
  {
   "cell_type": "markdown",
   "metadata": {},
   "source": [
    "## Part 2 - Next week!"
   ]
  },
  {
   "cell_type": "markdown",
   "metadata": {},
   "source": [
    "## Help!\n",
    "\n",
    "As always, if you have any questions, come to office hours or email your TA"
   ]
  }
 ],
 "metadata": {
  "kernelspec": {
   "display_name": "Python 3",
   "language": "python",
   "name": "python3"
  },
  "language_info": {
   "codemirror_mode": {
    "name": "ipython",
    "version": 3
   },
   "file_extension": ".py",
   "mimetype": "text/x-python",
   "name": "python",
   "nbconvert_exporter": "python",
   "pygments_lexer": "ipython3",
   "version": "3.7.4"
  }
 },
 "nbformat": 4,
 "nbformat_minor": 4
}
